{
 "cells": [
  {
   "cell_type": "code",
   "execution_count": 1,
   "metadata": {},
   "outputs": [
    {
     "name": "stderr",
     "output_type": "stream",
     "text": [
      "/home/ddalton/miniconda3/envs/flan-t5/lib/python3.10/site-packages/tqdm/auto.py:21: TqdmWarning: IProgress not found. Please update jupyter and ipywidgets. See https://ipywidgets.readthedocs.io/en/stable/user_install.html\n",
      "  from .autonotebook import tqdm as notebook_tqdm\n",
      "Special tokens have been added in the vocabulary, make sure the associated word embeddings are fine-tuned or trained.\n",
      "Loading checkpoint shards: 100%|██████████| 4/4 [00:03<00:00,  1.10it/s]\n"
     ]
    }
   ],
   "source": [
    "from transformers import AutoTokenizer, AutoModelForCausalLM\n",
    "import torch\n",
    "\n",
    "model_id = \"Meta-Llama-3-8B-Instruct\"\n",
    "\n",
    "tokenizer = AutoTokenizer.from_pretrained(model_id)\n",
    "model = AutoModelForCausalLM.from_pretrained(\n",
    "    model_id,\n",
    "    torch_dtype=torch.bfloat16,\n",
    "    device_map=\"auto\",\n",
    ")"
   ]
  },
  {
   "cell_type": "code",
   "execution_count": 2,
   "metadata": {},
   "outputs": [
    {
     "name": "stderr",
     "output_type": "stream",
     "text": [
      "The attention mask and the pad token id were not set. As a consequence, you may observe unexpected behavior. Please pass your input's `attention_mask` to obtain reliable results.\n",
      "Setting `pad_token_id` to `eos_token_id`:128009 for open-end generation.\n",
      "The attention mask is not set and cannot be inferred from input because pad token is same as eos token.As a consequence, you may observe unexpected behavior. Please pass your input's `attention_mask` to obtain reliable results.\n"
     ]
    },
    {
     "name": "stdout",
     "output_type": "stream",
     "text": [
      "Here is the output in CSV format:\n",
      "\n",
      "Front;Back;Number\n",
      "\"What is Euler's number defined as?\";\"By the numerical value 2.71828182, etc, or using the expression 1 plus 1 over n to the n.\";1\n",
      "\"What is the property of the function f(x) = e^x?\";\"It is its own derivative, i.e., the derivative of f(x) is also f(x).\";2\n",
      "\"What is the best bank among Bank 1, Bank 2, and Bank 3?\";\"Bank 3, which gives you 1/3 of your money three times a year, is the best bank.\";3\n",
      "\"What is the formula for the money you have in Bank 3 after one year?\";\"1 plus 1/3 to the 3.\";4\n",
      "\"What is the formula for the money you have in Bank n after one year?\";\"1 plus 1 over n to the n.\";5\n",
      "\"What is the formula for the money you have in Bank infinity after one year?\";\"1 plus 1 over infinity to the infinity, which converges to the number e.\";6\n",
      "\"What is the number e?\";\"The number e is 2.71828182, etc, and it is the amount of money you get at the end of the year in bank infinity.\";7\n",
      "\"What is the way to define the number e using interest rates?\";\"Using the expression 1 plus 1 over n to the n, where n is the number of subdivisions of the year.\";8\n",
      "\"What is the importance of the number e in mathematics?\";\"It appears in many branches of mathematics and has many applications in science, statistics, and probability.\";9\n",
      "\"What is the formula for the money you have in Bank 12 after one year?\";\"1 plus 1/12 to the 12.\";10\n",
      "\"What is the formula for the money you have in Bank 365 after one year?\";\"1 plus 1/365 to the 365, which is already 2.7145.\";11\n",
      "\"Why does the money in Bank 3 grow faster than the money in Bank 2?\";\"Because the money in Bank 3 accrues interest more frequently, three times a year, whereas the money in Bank 2 accrues interest only twice a year.\";12\n",
      "\"What is the concept of accrued interest?\";\"Accrued interest is the interest earned on the interest earned, resulting in exponential growth of the money.\";13\n",
      "\"What is the key difference between Bank 1 and Bank 3?\";\"Bank 3 gives you 1/3 of your money three times a year, whereas Bank 1 gives you 100% of your money once a year.\";14\n",
      "\"What is the formula for the money you have in Bank 4 after one year?\";\"1 plus 1/4 to the 4, which is already 2.6457.\";15\n",
      "\"What is the formula for the money you have in Bank 5 after one year?\";\"1 plus 1/5 to the 5, which is already 2.6531.\";16\n",
      "\"Why does the money in Bank infinity grow faster than the money in Bank 365?\";\"Because the money in Bank infinity accrues interest every instant, resulting in exponential growth of the money.\";17\n",
      "\"What is the concept of exponential growth?\";\"Exponential growth is the rapid increase in the value of a quantity, such as money, due to the accumulation of interest over time.\";18\n",
      "\"What is the importance of understanding the concept of exponential growth?\";\"Understanding exponential growth is crucial in finance, economics, and other fields where growth and accumulation of value are important.\";19\n",
      "\"What is the key difference between Bank 2 and Bank 3?\";\"Bank 3 gives you 1/3 of your money three times a year, whereas Bank 2 gives you 1/2 of your money twice a year.\";20\n"
     ]
    }
   ],
   "source": [
    "import re\n",
    "\n",
    "prompt_1 = \"\"\"Review Text: \"%s\"\n",
    "\n",
    "Task: Your task is to convert this text into Basic Note Type (front/back) Anki flashcards. Prioritize information regarding the imaging features of diseases, unique imaging findings, and methods of differentiating similar disease entities. Ensure that each flashcard is clearly written, and adheres to the specified formatting and reference criteria.\n",
    "\n",
    "Formatting Criteria:\n",
    "\n",
    "- Construct a table with three columns: \"Front\", “Back”, \"Number\".\n",
    "- Each row of the \"Front\" column should contain a single question testing the imaging features of disease, unique imaging findings, and methods of differentiating similar disease entities.\n",
    "- The “Back” column should contain the succinct answer to the question in the corresponding row of the “Front” column.\n",
    "- The \"Number\" column will serve to number each row, facilitating feedback.\n",
    "\n",
    "Reference Criteria for each \"Statement\":\n",
    "\n",
    "- Each flashcard should test a single concept.\n",
    "- Each flashcard MUST be able to stand alone. Include the subject of the flashcard somewhere in the text.\n",
    "- Keep ONLY simple, direct questions in the \"Front\" column.\n",
    "- Clear concise language but if required give plenty of context. \n",
    "- Output csv format like the example below. \n",
    "- Output at least %d rows of question/answers.\n",
    "\n",
    "Example:\n",
    "\n",
    "Front;Back;Number\n",
    "\"How is necrotic tissue identified in acute pancreatitis on a CT scan?\";\"Lack of contrast enhancement.\";1\n",
    "\"Why should people create their own examples?\";\"Because Jake is too tired to think of good examples.\";2\n",
    "\n",
    "\"\"\"\n",
    "\n",
    "text = \"Let's set our eyes in a very important function,\\nthe exponential function. For this, we need to\\ndefine Euler's number. Euler's number is quite a\\nspecial number of mathematics. It appears in many branches and it can be defined\\nin many ways. One of them is by the numerical\\nvalue 2.71828182, etc. The decimal never terminates because a number is irrational, which means it\\ncannot be expressed as a ratio between two integers. Another way to define it is using the expression\\n1 plus 1 over n to the n. Let's look at this expression for several\\nvalues of n. For 1, it's 1 plus 1 over 1 to\\nthe one which is two. For 10 is 1 plus a tenth\\nto the 10, which is 2.594. For 100 is 2.705. For 1,000 is 2.717. As you notice, the\\nmore we increase n, the more these converges\\nto a certain number. The actual number that this\\ngets closer and closer is e, 2.71828182, etc. That's how we're going to define the number e and e has a\\nvery particular property. If you consider the function\\nf of x equals e to the x, that function is\\nits own derivative. The derivative of f\\nof x is also f of x. That particular property\\nmakes sure that e appears in many places in science,\\nstatistics, probability, etc. Now, the way I like to define\\ne is using interest rates. Let's look at the\\nfollowing problem. Let's say that you're\\ntrying to find the best bank where\\nto put your money. Bank 1 says the following. Bank 1 says, I'm not going to give you any money for a year. But after a year, I will give you as interest,\\n100 percent of your money. That means all your\\nmoney once a year. Means if you put in\\n$5 today in a year, they give you another $5. That's pretty good, but\\nyou continue looking. Let's go to bank number 2. Bank number 2 says, well, I'm going to give you 50 percent of your money every six months. If you put in $10\\ntoday, in six months, you're going to have $15 because bank 2 gives you half of\\nyour money twice a year. Bank 3 is slightly different. This one says, I'm\\ngoing to give you 1/3 of your money\\nthree times a year, so 33 percent every four months. In summary, bank 1 gives you\\nall your money once a year, bank 2 gives you half\\nfor money twice a year, and bank 3 gives you a third of your money three times a year. The question is,\\nwhich bank is better? Let's take five seconds\\nfor you to figure out. If you need more\\ntime, feel free to pause the video and\\nthink about it. This is a very\\nimportant problem. The answer is that bank 3 is\\nthe best bank of the three. Why? Well, let's\\nsay you have $1. So bank 1 after a year\\ngives you another one, so you end up with $2. Now, the question is, what are you going to\\nend up with in bank 2 and what are you going\\nto end up with in bank 3? In other words, what's the\\npercentage that you end up getting in a year in\\nbank 2 and bank 3. Let's take a look. Bank 1, you have $1 now. In a year, you're going\\nto have your dollar plus the extra dollar that bank 1 gives you of\\ninterests, that's $2. We can express the two\\nas 1 plus 1 to the 1. That's going to be\\nimportant later. In bank 2, now, you have\\n$1 and in six months, you have $1 plus a half. In one year, you're going to have $8\\nplus a half of that. In six months, you end up with\\n1 plus 1/2, which is 1.5. In one year, you\\nend up with 2.25, which is 1 plus 1/2 squared is because you're adding\\nhalf of your money, which means you're\\nmultiplying it by 1 plus 1 half every time and 2.25 is bigger than two because\\nyour dollar got doubled. But this amount\\nof money that you earned actually earned\\nmore money later. This is called accrued\\ninterests into money that gains interests and then that\\ninterests gains interests. That's why you did better\\nwith bank 2 than with bank 1. Now, let's take a\\nlook at bank 3. In bank 3, you start\\nwith $1 right now. In four months, you have $1\\nplus 1/3, which is 1.33. In eight months,\\nyou have your 1 and 1/3 plus a 1/3 of that. That's 1.77. In one year you have 1.77 plus 1/3 of\\nthat, which is 2.37. Again, you did well\\nbecause this interest over here accrued interests\\nand accrued more interest. This interest over here\\naccrued more interests. Your money is making more money. At the beginning of\\nthe year, you had $1, then you have 1 plus 1/3, then you had 1 plus 1/3 squared, and then you had\\n1 plus 1/3 cube, and that becomes 237. In short, in bank 1 after\\none year, you have $2. In bank 2 after one\\nyear, you have 2.25. In bank 3 after one\\nyear, you have 2.37. That's why the money\\nis better in bank 3. This money actually\\nmultiplies a lot. Take a look at what happens\\nin bank 1 after four years, you're going to end up with $16. In bank 2 after four years, you're going to end\\nup with more money. You're going to end\\nup with $25.63. In bank 3, you're going to end up with quite a lot of money. You're going to end\\nup with $31.57. Definitely bank 3 is much\\nbetter than bank 1 and bank 2. Again, let's recall\\nthat after one year, in bank 1 you get\\n1 plus 1 to the 1, bank 2, you get 1 plus 1/2 to 2 and in bank 3 get 1\\nplus 1/3 to the 3. This is super important. Now, could you imagine a\\nbetter bank than these three? Well, of course, the more subdivisions\\nyou have, the better. Let's look at bank 12. Bank 12 gives you 1/12 of\\nyour money every month. You start with $1\\nnow, in a month, you have 1 plus\\n1/12, in two months, 1 plus 1/12 squared and\\nso on until in 12 months, you have 1 plus 1/12 to\\nthe 12th and that's $2.61. You did much better. In general, bank n, would have\\nn subdivisions. It subdivides the year into\\nn intervals and every time, it gives you one\\nnth of your money. You start with one\\non the first day. After first interval, 1 plus 1 over n. After the\\nsecond interval, 1 plus 1 over n squared. If this is not super\\nclear, let me elaborate. 1 plus 1 over n is the money you have and you add an nth of that. You have 1 plus 1\\nover n plus 1 over n, 1 plus 1 over n and that is the money you have plus\\nthe interests you accrue. That factors is 1\\nplus 1 over n square. After three intervals, you\\nhave 1 plus 1 over n cubed. After k intervals, you have 1 plus 1 over\\nn to the k. Eventually, after the end of the year, you have 1 plus 1 over n to\\nthe n. N can be really large, so you could potentially accrue money every second or\\nevery millisecond. In summary, bank n\\ndoes the following, it gives you 1 plus 1 over n to the n at\\nthe end of the year because it returns one nth of your money and times a year. Now imagine that you go\\naround looking for banks. There's bank 1, there's\\nbank 2, there's 3. Bank 4 gives you a quarter of your money\\nfour times a year. Bank 5 gives you a fifth\\nof your money five times a year and so on until\\nthe end of the universe. Here's bank 12 that gives you 1/12 of your money every month. Here's bank 365, that gives you 1/365 of your money every day. What's at the very\\nend of the years? What is this bank? Well, this bank, let's call\\nit bank infinity. What bank infinity does is it pretty much gives\\nyou instant interests. One infinity of your money\\ninfinity times a year. Let's see how much\\nmoney bank infinity would give you at\\nthe end of the year. Bank 1 ends up with\\n1 plus 1 to the 1. Bank 2 with 1 plus 1/2 to the 2. Bank 3 is 1 plus 1/3 to the 3 and 12 is 1 plus\\n1/12 to the 12. Bank 365 is 1 plus\\n1/365 to the 365, which already is 2.7145. Bank infinity gives you, well, this is not a good\\nmathematical expression, 1 plus 1 over infinity\\nto the infinity. But it's basically the number that all these numbers\\nconverge to 2.25, 2.37, 2.613, 2.7145, etc. Gets closer and closer\\nto a particular number. That number is 2.7182812\\nor the number e. So e is the amount of money that you get at the end of the\\nyear in bank infinity because bank infinity gives you an infinitesimal if your\\nmoney every single instant. That is one way to\\nlook at the number e.\"\n",
    "\n",
    "# Split the text based on space and newline\n",
    "split_text = re.split(r\"[\\s\\n]+\", text)\n",
    "\n",
    "n_flashcards = int(len(split_text) / 65)\n",
    "n_flashcards = max(3, n_flashcards)\n",
    "\n",
    "\n",
    "messages = [\n",
    "    {\n",
    "        \"role\": \"system\",\n",
    "        \"content\": \"You are a teacher who is writing anki cards for his students.\",\n",
    "    },\n",
    "    {\n",
    "        \"role\": \"user\",\n",
    "        # \"content\": f\"Please write an anki card on the following text:\\n{text}\",\n",
    "        \"content\": prompt_1 % (text, 20),\n",
    "    },\n",
    "]\n",
    "\n",
    "\n",
    "input_ids = tokenizer.apply_chat_template(\n",
    "    messages, add_generation_prompt=True, return_tensors=\"pt\"\n",
    ").to(model.device)\n",
    "\n",
    "terminators = [tokenizer.eos_token_id, tokenizer.convert_tokens_to_ids(\"<|eot_id|>\")]\n",
    "\n",
    "outputs = model.generate(\n",
    "    input_ids,\n",
    "    max_new_tokens=1024,\n",
    "    eos_token_id=terminators,\n",
    "    do_sample=True,\n",
    "    temperature=0.6,\n",
    "    top_p=0.9,\n",
    ")\n",
    "response = outputs[0][input_ids.shape[-1] :]\n",
    "print(tokenizer.decode(response, skip_special_tokens=True))"
   ]
  },
  {
   "cell_type": "code",
   "execution_count": 3,
   "metadata": {},
   "outputs": [
    {
     "data": {
      "text/plain": [
       "1024"
      ]
     },
     "execution_count": 3,
     "metadata": {},
     "output_type": "execute_result"
    }
   ],
   "source": [
    "256 * 4"
   ]
  },
  {
   "cell_type": "code",
   "execution_count": 4,
   "metadata": {},
   "outputs": [
    {
     "name": "stdout",
     "output_type": "stream",
     "text": [
      "26.266666666666666\n"
     ]
    }
   ],
   "source": [
    "import re\n",
    "\n",
    "# Split the text based on space and newline\n",
    "split_text = re.split(r\"[\\s\\n]+\", text)\n",
    "\n",
    "print(len(split_text) / 60)"
   ]
  },
  {
   "cell_type": "code",
   "execution_count": 5,
   "metadata": {},
   "outputs": [
    {
     "data": {
      "text/plain": [
       "'Here is the output in CSV format:\\n\\nFront;Back;Number\\n\"What is Euler\\'s number defined as?\";\"By the numerical value 2.71828182, etc, or using the expression 1 plus 1 over n to the n.\";1\\n\"What is the property of the function f(x) = e^x?\";\"It is its own derivative, i.e., the derivative of f(x) is also f(x).\";2\\n\"What is the best bank among Bank 1, Bank 2, and Bank 3?\";\"Bank 3, which gives you 1/3 of your money three times a year, is the best bank.\";3\\n\"What is the formula for the money you have in Bank 3 after one year?\";\"1 plus 1/3 to the 3.\";4\\n\"What is the formula for the money you have in Bank n after one year?\";\"1 plus 1 over n to the n.\";5\\n\"What is the formula for the money you have in Bank infinity after one year?\";\"1 plus 1 over infinity to the infinity, which converges to the number e.\";6\\n\"What is the number e?\";\"The number e is 2.71828182, etc, and it is the amount of money you get at the end of the year in bank infinity.\";7\\n\"What is the way to define the number e using interest rates?\";\"Using the expression 1 plus 1 over n to the n, where n is the number of subdivisions of the year.\";8\\n\"What is the importance of the number e in mathematics?\";\"It appears in many branches of mathematics and has many applications in science, statistics, and probability.\";9\\n\"What is the formula for the money you have in Bank 12 after one year?\";\"1 plus 1/12 to the 12.\";10\\n\"What is the formula for the money you have in Bank 365 after one year?\";\"1 plus 1/365 to the 365, which is already 2.7145.\";11\\n\"Why does the money in Bank 3 grow faster than the money in Bank 2?\";\"Because the money in Bank 3 accrues interest more frequently, three times a year, whereas the money in Bank 2 accrues interest only twice a year.\";12\\n\"What is the concept of accrued interest?\";\"Accrued interest is the interest earned on the interest earned, resulting in exponential growth of the money.\";13\\n\"What is the key difference between Bank 1 and Bank 3?\";\"Bank 3 gives you 1/3 of your money three times a year, whereas Bank 1 gives you 100% of your money once a year.\";14\\n\"What is the formula for the money you have in Bank 4 after one year?\";\"1 plus 1/4 to the 4, which is already 2.6457.\";15\\n\"What is the formula for the money you have in Bank 5 after one year?\";\"1 plus 1/5 to the 5, which is already 2.6531.\";16\\n\"Why does the money in Bank infinity grow faster than the money in Bank 365?\";\"Because the money in Bank infinity accrues interest every instant, resulting in exponential growth of the money.\";17\\n\"What is the concept of exponential growth?\";\"Exponential growth is the rapid increase in the value of a quantity, such as money, due to the accumulation of interest over time.\";18\\n\"What is the importance of understanding the concept of exponential growth?\";\"Understanding exponential growth is crucial in finance, economics, and other fields where growth and accumulation of value are important.\";19\\n\"What is the key difference between Bank 2 and Bank 3?\";\"Bank 3 gives you 1/3 of your money three times a year, whereas Bank 2 gives you 1/2 of your money twice a year.\";20'"
      ]
     },
     "execution_count": 5,
     "metadata": {},
     "output_type": "execute_result"
    }
   ],
   "source": [
    "tokenizer.decode(response, skip_special_tokens=True)"
   ]
  },
  {
   "cell_type": "code",
   "execution_count": 6,
   "metadata": {},
   "outputs": [
    {
     "ename": "NameError",
     "evalue": "name 'StringIO' is not defined",
     "output_type": "error",
     "traceback": [
      "\u001b[0;31m---------------------------------------------------------------------------\u001b[0m",
      "\u001b[0;31mNameError\u001b[0m                                 Traceback (most recent call last)",
      "Cell \u001b[0;32mIn[6], line 22\u001b[0m\n\u001b[1;32m     17\u001b[0m     df \u001b[38;5;241m=\u001b[39m pd\u001b[38;5;241m.\u001b[39mread_csv(_data, delimiter\u001b[38;5;241m=\u001b[39m\u001b[38;5;124m\"\u001b[39m\u001b[38;5;124m;\u001b[39m\u001b[38;5;124m\"\u001b[39m, quotechar\u001b[38;5;241m=\u001b[39m\u001b[38;5;124m'\u001b[39m\u001b[38;5;124m\"\u001b[39m\u001b[38;5;124m'\u001b[39m)\n\u001b[1;32m     19\u001b[0m     \u001b[38;5;28;01mreturn\u001b[39;00m df\n\u001b[0;32m---> 22\u001b[0m \u001b[43mclean_response\u001b[49m\u001b[43m(\u001b[49m\u001b[43mresponse_text\u001b[49m\u001b[38;5;241;43m=\u001b[39;49m\u001b[43mtokenizer\u001b[49m\u001b[38;5;241;43m.\u001b[39;49m\u001b[43mdecode\u001b[49m\u001b[43m(\u001b[49m\u001b[43mresponse\u001b[49m\u001b[43m,\u001b[49m\u001b[43m \u001b[49m\u001b[43mskip_special_tokens\u001b[49m\u001b[38;5;241;43m=\u001b[39;49m\u001b[38;5;28;43;01mTrue\u001b[39;49;00m\u001b[43m)\u001b[49m\u001b[43m)\u001b[49m\n",
      "Cell \u001b[0;32mIn[6], line 14\u001b[0m, in \u001b[0;36mclean_response\u001b[0;34m(response_text)\u001b[0m\n\u001b[1;32m     11\u001b[0m response_text \u001b[38;5;241m=\u001b[39m response_text[response_text\u001b[38;5;241m.\u001b[39mfind(\u001b[38;5;124m\"\u001b[39m\u001b[38;5;124mFront;Back;Number\u001b[39m\u001b[38;5;124m\"\u001b[39m) :]\n\u001b[1;32m     13\u001b[0m \u001b[38;5;66;03m# Use StringIO to create a file-like object from the string\u001b[39;00m\n\u001b[0;32m---> 14\u001b[0m _data \u001b[38;5;241m=\u001b[39m \u001b[43mStringIO\u001b[49m(response_text)\n\u001b[1;32m     16\u001b[0m \u001b[38;5;66;03m# Read the data into a pandas dataframe\u001b[39;00m\n\u001b[1;32m     17\u001b[0m df \u001b[38;5;241m=\u001b[39m pd\u001b[38;5;241m.\u001b[39mread_csv(_data, delimiter\u001b[38;5;241m=\u001b[39m\u001b[38;5;124m\"\u001b[39m\u001b[38;5;124m;\u001b[39m\u001b[38;5;124m\"\u001b[39m, quotechar\u001b[38;5;241m=\u001b[39m\u001b[38;5;124m'\u001b[39m\u001b[38;5;124m\"\u001b[39m\u001b[38;5;124m'\u001b[39m)\n",
      "\u001b[0;31mNameError\u001b[0m: name 'StringIO' is not defined"
     ]
    }
   ],
   "source": [
    "from io import StringIO\n",
    "\n",
    "\n",
    "def clean_response(response_text):\n",
    "    \"\"\"Clean Response Text\n",
    "    Args:\n",
    "        response_text (str): response text from model\n",
    "    Returns:\n",
    "        response_df (df): cleaned response df\n",
    "    \"\"\"\n",
    "\n",
    "    # clear response text\n",
    "    # delete everything before Front;Back;Number\n",
    "    response_text = response_text[response_text.find(\"Front;Back;Number\") :]\n",
    "\n",
    "    # Use StringIO to create a file-like object from the string\n",
    "    _data = StringIO(response_text)\n",
    "\n",
    "    # Read the data into a pandas dataframe\n",
    "    df = pd.read_csv(_data, delimiter=\";\", quotechar='\"')\n",
    "\n",
    "    return df\n",
    "\n",
    "\n",
    "clean_response(response_text=tokenizer.decode(response, skip_special_tokens=True))"
   ]
  },
  {
   "cell_type": "code",
   "execution_count": null,
   "metadata": {},
   "outputs": [
    {
     "data": {
      "text/plain": [
       "79"
      ]
     },
     "execution_count": 56,
     "metadata": {},
     "output_type": "execute_result"
    }
   ],
   "source": [
    "response_text.find(\"Front;Back;Number\")"
   ]
  },
  {
   "cell_type": "code",
   "execution_count": null,
   "metadata": {},
   "outputs": [
    {
     "name": "stderr",
     "output_type": "stream",
     "text": [
      "The attention mask and the pad token id were not set. As a consequence, you may observe unexpected behavior. Please pass your input's `attention_mask` to obtain reliable results.\n",
      "Setting `pad_token_id` to `eos_token_id`:128009 for open-end generation.\n"
     ]
    },
    {
     "name": "stdout",
     "output_type": "stream",
     "text": [
      "My child, I must confess that I am not familiar with this \"LLAMA-3\" you speak of. As a priest, my duties lie in the realm of spiritual guidance and pastoral care, not in the realm of artificial intelligence or technology.\n",
      "\n",
      "However, I can tell you that as a priest, I am trained to discern and respond to questions that are respectful and relevant to the spiritual journey. I believe that a good priest should be able to navigate complex conversations and provide guidance that is informed by faith and compassion.\n",
      "\n",
      "If I were to assume that LLAMA-3 is a tool designed to facilitate spiritual inquiry, I would imagine that it would employ various mechanisms to filter out inappropriate questions. Here are a few possibilities:\n",
      "\n",
      "1. Natural Language Processing (NLP): LLAMA-3 might use NLP algorithms to analyze the language and tone of the question, identifying and flagging any that contain profanity, aggression, or other inappropriate content.\n",
      "2. Contextual understanding: The tool might be designed to understand the context in which the question is being asked, taking into account the user's background, beliefs, and values. This could help LLAMA-3 to identify questions that are respectful and relevant to the spiritual journey.\n",
      "3. Human oversight: It's possible that LLAMA-3 is designed to be reviewed and moderated by human experts, who can assess the appropriateness of each question and provide feedback to the user.\n",
      "4. Community guidelines: LLAMA-3 might be programmed to adhere to community guidelines and standards that are established by the organization or community it serves. These guidelines could outline what types of questions are considered appropriate and respectful.\n",
      "\n",
      "Ultimately, my child, I believe that the goal of any spiritual inquiry tool should be to facilitate meaningful and respectful conversations that promote growth, understanding, and compassion. May we always approach our conversations with humility, kindness, and an open heart.\n"
     ]
    }
   ],
   "source": [
    "messages = [\n",
    "    {\n",
    "        \"role\": \"system\",\n",
    "        \"content\": \"You are a a priest.\",\n",
    "    },\n",
    "    {\n",
    "        \"role\": \"user\",\n",
    "        # \"content\": f\"Please write an anki card on the following text:\\n{text}\",\n",
    "        # \"content\": prompt_1 % (text, 20),\n",
    "        \"content\": \"How does LLAMA-3 filter-out inappropriate questions\",\n",
    "    },\n",
    "]\n",
    "\n",
    "\n",
    "input_ids = tokenizer.apply_chat_template(\n",
    "    messages, add_generation_prompt=True, return_tensors=\"pt\"\n",
    ").to(model.device)\n",
    "\n",
    "terminators = [tokenizer.eos_token_id, tokenizer.convert_tokens_to_ids(\"<|eot_id|>\")]\n",
    "\n",
    "outputs = model.generate(\n",
    "    input_ids,\n",
    "    max_new_tokens=1024,\n",
    "    eos_token_id=terminators,\n",
    "    do_sample=True,\n",
    "    temperature=0.6,\n",
    "    top_p=0.9,\n",
    ")\n",
    "response = outputs[0][input_ids.shape[-1] :]\n",
    "print(tokenizer.decode(response, skip_special_tokens=True))"
   ]
  }
 ],
 "metadata": {
  "kernelspec": {
   "display_name": "flan-t5",
   "language": "python",
   "name": "python3"
  },
  "language_info": {
   "codemirror_mode": {
    "name": "ipython",
    "version": 3
   },
   "file_extension": ".py",
   "mimetype": "text/x-python",
   "name": "python",
   "nbconvert_exporter": "python",
   "pygments_lexer": "ipython3",
   "version": "3.10.11"
  }
 },
 "nbformat": 4,
 "nbformat_minor": 2
}
