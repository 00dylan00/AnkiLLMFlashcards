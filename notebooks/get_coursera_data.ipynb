{
 "cells": [
  {
   "cell_type": "markdown",
   "metadata": {},
   "source": [
    "# Get Coursera Data"
   ]
  },
  {
   "cell_type": "code",
   "execution_count": 3,
   "metadata": {},
   "outputs": [],
   "source": [
    "\"\"\"Get Coursera Data\n",
    "\n",
    "Structure:\n",
    "    1. Imports, Variables, Functions\n",
    "    2. Get Course Data\n",
    "\n",
    "\"\"\"\n",
    "\n",
    "# 1. Imports, Variables, Functions\n",
    "# imports\n",
    "import sys, os, numpy as np, pandas as pd\n",
    "\n",
    "# variables\n",
    "specialization_id = \"machine_learning\"\n",
    "# course_id = \"calculus-for-machine-learning-and-data-science\"\n",
    "course_id = \"unsupervised-learning-recommenders-reinforcement-learning\"\n",
    "\n",
    "output_path = os.path.join(os.getcwd(), \"..\", \"data\")\n",
    "if specialization_id is not None:\n",
    "    output_path = os.path.join(os.getcwd(), \"..\", \"data\", specialization_id)\n",
    "\n",
    "if not os.path.exists(output_path):\n",
    "    os.makedirs(output_path)\n",
    "\n",
    "\n",
    "# functions\n",
    "\n",
    "# 2. Get Course Data\n",
    "# define commands\n",
    "command_2 = f\"conda run -n coursera cs-dlp --cauth-auto firefox  --subtitle-language en {course_id} --path {output_path}\"\n",
    "\n",
    "# run sys command\n",
    "os.system(command_2)"
   ]
  }
 ],
 "metadata": {
  "kernelspec": {
   "display_name": "disease_sig",
   "language": "python",
   "name": "python3"
  },
  "language_info": {
   "codemirror_mode": {
    "name": "ipython",
    "version": 3
   },
   "file_extension": ".py",
   "mimetype": "text/x-python",
   "name": "python",
   "nbconvert_exporter": "python",
   "pygments_lexer": "ipython3",
   "version": "3.10.13"
  }
 },
 "nbformat": 4,
 "nbformat_minor": 2
}
